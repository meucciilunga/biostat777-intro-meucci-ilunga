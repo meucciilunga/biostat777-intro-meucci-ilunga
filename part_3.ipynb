{
 "cells": [
  {
   "cell_type": "code",
   "execution_count": 2,
   "metadata": {
    "vscode": {
     "languageId": "shellscript"
    }
   },
   "outputs": [
    {
     "name": "stdout",
     "output_type": "stream",
     "text": [
      "/home/katavga/Documents/Coursework/140.777/Project 1/data\n"
     ]
    }
   ],
   "source": [
    "cd data\n",
    "pwd"
   ]
  },
  {
   "cell_type": "code",
   "execution_count": 9,
   "metadata": {
    "vscode": {
     "languageId": "shellscript"
    }
   },
   "outputs": [
    {
     "name": "stdout",
     "output_type": "stream",
     "text": [
      "\n",
      "\n",
      "\u001b7\u001b[1A\u001b[1G\u001b[27G[Files: 0  Bytes: 0  [0 B/s] Re]\u001b8\u001b7\u001b[2A\u001b[1G\u001b[27G[https://raw.githubusercontent.]\u001b8\u001b7\u001b[2A\u001b[1Gstudents.csv         100% [=============================>]     183     --.-KB/s\u001b8\u001b7\u001b[1A\u001b[1G\u001b[27G[Files: 1  Bytes: 183  [1.09KB/]\u001b8\u001b[m\u001b[m\u001b[m\u001b[m\n"
     ]
    }
   ],
   "source": [
    "wget \"https://raw.githubusercontent.com/stephaniehicks/jhustatprogramming2024/refs/heads/main/projects/01-project/students.csv\""
   ]
  },
  {
   "cell_type": "code",
   "execution_count": 10,
   "metadata": {
    "vscode": {
     "languageId": "shellscript"
    }
   },
   "outputs": [
    {
     "name": "stdout",
     "output_type": "stream",
     "text": [
      "ID,Name,Age,Gender,Grade,Subject\n",
      "1,Alice,20,F,88,Math\n",
      "2,Bob,22,M,76,History\n",
      "3,Charlie,23,M,90,Math\n",
      "4,Diana,21,F,85,Science\n",
      "5,Eve,20,F,92,Math\n",
      "6,Frank,22,M,72,History\n",
      "7,Grace,23,F,78,Science\n",
      "8,Heidi,21,F,88,Math\n",
      "9,Ivan,20,M,85,Science\n",
      "10,Judy,22,F,79,History\n"
     ]
    }
   ],
   "source": [
    "cat students.csv"
   ]
  },
  {
   "cell_type": "code",
   "execution_count": 11,
   "metadata": {
    "vscode": {
     "languageId": "shellscript"
    }
   },
   "outputs": [
    {
     "name": "stdout",
     "output_type": "stream",
     "text": [
      "ID,Name,Age,Gender,Grade,Subject\n",
      "1,Alice,20,F,88,Math\n",
      "2,Bob,22,M,76,History\n",
      "3,Charlie,23,M,90,Math\n",
      "4,Diana,21,F,85,Science\n"
     ]
    }
   ],
   "source": [
    "head -n 5 students.csv"
   ]
  },
  {
   "cell_type": "code",
   "execution_count": 12,
   "metadata": {
    "vscode": {
     "languageId": "shellscript"
    }
   },
   "outputs": [
    {
     "name": "stdout",
     "output_type": "stream",
     "text": [
      "8,Heidi,21,F,88,Math\n",
      "9,Ivan,20,M,85,Science\n",
      "10,Judy,22,F,79,History\n"
     ]
    }
   ],
   "source": [
    "tail -n 3 students.csv"
   ]
  },
  {
   "cell_type": "code",
   "execution_count": 16,
   "metadata": {
    "vscode": {
     "languageId": "shellscript"
    }
   },
   "outputs": [
    {
     "name": "stdout",
     "output_type": "stream",
     "text": [
      "10 students.csv\n"
     ]
    }
   ],
   "source": [
    "wc --lines students.csv"
   ]
  },
  {
   "cell_type": "code",
   "execution_count": 17,
   "metadata": {
    "vscode": {
     "languageId": "shellscript"
    }
   },
   "outputs": [
    {
     "name": "stdout",
     "output_type": "stream",
     "text": [
      "1,Alice,20,F,88,Math\n",
      "3,Charlie,23,M,90,Math\n",
      "5,Eve,20,F,92,Math\n",
      "8,Heidi,21,F,88,Math\n"
     ]
    }
   ],
   "source": [
    "grep \"Math\" students.csv"
   ]
  },
  {
   "cell_type": "code",
   "execution_count": 18,
   "metadata": {
    "vscode": {
     "languageId": "shellscript"
    }
   },
   "outputs": [
    {
     "name": "stdout",
     "output_type": "stream",
     "text": [
      "1,Alice,20,F,88,Math\n",
      "4,Diana,21,F,85,Science\n",
      "5,Eve,20,F,92,Math\n",
      "7,Grace,23,F,78,Science\n",
      "8,Heidi,21,F,88,Math\n",
      "10,Judy,22,F,79,History\n"
     ]
    }
   ],
   "source": [
    "grep \",F,\" students.csv"
   ]
  },
  {
   "cell_type": "code",
   "execution_count": 23,
   "metadata": {
    "vscode": {
     "languageId": "shellscript"
    }
   },
   "outputs": [
    {
     "name": "stdout",
     "output_type": "stream",
     "text": [
      "1,Alice,20,F,88,Math\n",
      "5,Eve,20,F,92,Math\n",
      "9,Ivan,20,M,85,Science\n",
      "4,Diana,21,F,85,Science\n",
      "8,Heidi,21,F,88,Math\n",
      "10,Judy,22,F,79,History\n",
      "6,Frank,22,M,72,History\n",
      "2,Bob,22,M,76,History\n",
      "7,Grace,23,F,78,Science\n",
      "3,Charlie,23,M,90,Math\n"
     ]
    }
   ],
   "source": [
    "sort -t ',' -k 3 students.csv | head -n 10"
   ]
  },
  {
   "cell_type": "code",
   "execution_count": 32,
   "metadata": {
    "vscode": {
     "languageId": "shellscript"
    }
   },
   "outputs": [
    {
     "name": "stdout",
     "output_type": "stream",
     "text": [
      "      3 History\n",
      "      4 Math\n",
      "      3 Science\n",
      "      1 Subject\n"
     ]
    }
   ],
   "source": [
    "cut -d ',' -f 6 students.csv | sort | uniq -c"
   ]
  },
  {
   "cell_type": "code",
   "execution_count": 19,
   "metadata": {
    "vscode": {
     "languageId": "shellscript"
    }
   },
   "outputs": [
    {
     "name": "stdout",
     "output_type": "stream",
     "text": [
      "Average: 83.3\n"
     ]
    }
   ],
   "source": [
    "tail -10 students.csv | awk -F ',' '{ sum1 += 1; sum2 += $5 } END { print \"Average:\", sum2 / sum1 }' "
   ]
  },
  {
   "cell_type": "code",
   "execution_count": 20,
   "metadata": {
    "vscode": {
     "languageId": "shellscript"
    }
   },
   "outputs": [
    {
     "name": "stdout",
     "output_type": "stream",
     "text": [
      "ID,Name,Age,Gender,Grade,Subject\n",
      "1,Alice,20,F,88,Mathematics\n",
      "2,Bob,22,M,76,History\n",
      "3,Charlie,23,M,90,Mathematics\n",
      "4,Diana,21,F,85,Science\n",
      "5,Eve,20,F,92,Mathematics\n",
      "6,Frank,22,M,72,History\n",
      "7,Grace,23,F,78,Science\n",
      "8,Heidi,21,F,88,Mathematics\n",
      "9,Ivan,20,M,85,Science\n",
      "10,Judy,22,F,79,History\n"
     ]
    }
   ],
   "source": [
    "sed 's/Math/Mathematics/g' students.csv"
   ]
  }
 ],
 "metadata": {
  "kernelspec": {
   "display_name": "Bash",
   "language": "bash",
   "name": "bash"
  },
  "language_info": {
   "codemirror_mode": "shell",
   "file_extension": ".sh",
   "mimetype": "text/x-sh",
   "name": "bash"
  }
 },
 "nbformat": 4,
 "nbformat_minor": 2
}
